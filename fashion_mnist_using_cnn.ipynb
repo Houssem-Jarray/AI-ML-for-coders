{
  "nbformat": 4,
  "nbformat_minor": 0,
  "metadata": {
    "colab": {
      "provenance": [],
      "authorship_tag": "ABX9TyOz/vFji3iIiMFcN91DKytp",
      "include_colab_link": true
    },
    "kernelspec": {
      "name": "python3",
      "display_name": "Python 3"
    },
    "language_info": {
      "name": "python"
    }
  },
  "cells": [
    {
      "cell_type": "markdown",
      "metadata": {
        "id": "view-in-github",
        "colab_type": "text"
      },
      "source": [
        "<a href=\"https://colab.research.google.com/github/Houssem-Jarray/AI-ML-for-coders/blob/main/fashion_mnist_using_cnn.ipynb\" target=\"_parent\"><img src=\"https://colab.research.google.com/assets/colab-badge.svg\" alt=\"Open In Colab\"/></a>"
      ]
    },
    {
      "cell_type": "code",
      "execution_count": 2,
      "metadata": {
        "colab": {
          "base_uri": "https://localhost:8080/"
        },
        "id": "dX2Nywb7NKD_",
        "outputId": "8bdc0cc6-9362-46e6-e2a3-943d31f0ec8f"
      },
      "outputs": [
        {
          "output_type": "stream",
          "name": "stdout",
          "text": [
            "<class 'numpy.ndarray'>\n",
            "Model: \"sequential\"\n",
            "_________________________________________________________________\n",
            " Layer (type)                Output Shape              Param #   \n",
            "=================================================================\n",
            " conv2d (Conv2D)             (None, 26, 26, 64)        640       \n",
            "                                                                 \n",
            " max_pooling2d (MaxPooling2D  (None, 13, 13, 64)       0         \n",
            " )                                                               \n",
            "                                                                 \n",
            " conv2d_1 (Conv2D)           (None, 11, 11, 64)        36928     \n",
            "                                                                 \n",
            " max_pooling2d_1 (MaxPooling  (None, 5, 5, 64)         0         \n",
            " 2D)                                                             \n",
            "                                                                 \n",
            " flatten (Flatten)           (None, 1600)              0         \n",
            "                                                                 \n",
            " dense (Dense)               (None, 128)               204928    \n",
            "                                                                 \n",
            " dense_1 (Dense)             (None, 10)                1290      \n",
            "                                                                 \n",
            "=================================================================\n",
            "Total params: 243,786\n",
            "Trainable params: 243,786\n",
            "Non-trainable params: 0\n",
            "_________________________________________________________________\n",
            "Epoch 1/50\n",
            "1875/1875 [==============================] - 109s 57ms/step - loss: 0.4352 - accuracy: 0.8416\n",
            "Epoch 2/50\n",
            "1875/1875 [==============================] - 108s 58ms/step - loss: 0.2941 - accuracy: 0.8924\n",
            "Epoch 3/50\n",
            "1875/1875 [==============================] - 101s 54ms/step - loss: 0.2500 - accuracy: 0.9081\n",
            "Epoch 4/50\n",
            "1875/1875 [==============================] - 102s 54ms/step - loss: 0.2184 - accuracy: 0.9192\n",
            "Epoch 5/50\n",
            "1875/1875 [==============================] - 101s 54ms/step - loss: 0.1926 - accuracy: 0.9286\n",
            "Epoch 6/50\n",
            "1875/1875 [==============================] - 102s 54ms/step - loss: 0.1697 - accuracy: 0.9361\n",
            "Epoch 7/50\n",
            "1875/1875 [==============================] - 102s 54ms/step - loss: 0.1490 - accuracy: 0.9438\n",
            "Epoch 8/50\n",
            "1875/1875 [==============================] - 102s 54ms/step - loss: 0.1312 - accuracy: 0.9500\n",
            "Epoch 9/50\n",
            "1875/1875 [==============================] - 103s 55ms/step - loss: 0.1164 - accuracy: 0.9570\n",
            "Epoch 10/50\n",
            "1875/1875 [==============================] - 102s 55ms/step - loss: 0.1040 - accuracy: 0.9611\n",
            "Epoch 11/50\n",
            "1875/1875 [==============================] - 103s 55ms/step - loss: 0.0880 - accuracy: 0.9664\n",
            "Epoch 12/50\n",
            "1875/1875 [==============================] - 102s 55ms/step - loss: 0.0783 - accuracy: 0.9708\n",
            "Epoch 13/50\n",
            "1875/1875 [==============================] - 100s 53ms/step - loss: 0.0690 - accuracy: 0.9735\n",
            "Epoch 14/50\n",
            "1875/1875 [==============================] - 101s 54ms/step - loss: 0.0627 - accuracy: 0.9762\n",
            "Epoch 15/50\n",
            "1875/1875 [==============================] - 102s 54ms/step - loss: 0.0556 - accuracy: 0.9790\n",
            "Epoch 16/50\n",
            "1875/1875 [==============================] - 102s 55ms/step - loss: 0.0513 - accuracy: 0.9807\n",
            "Epoch 17/50\n",
            "1875/1875 [==============================] - 102s 54ms/step - loss: 0.0467 - accuracy: 0.9824\n",
            "Epoch 18/50\n",
            "1875/1875 [==============================] - 103s 55ms/step - loss: 0.0414 - accuracy: 0.9844\n",
            "Epoch 19/50\n",
            "1875/1875 [==============================] - 103s 55ms/step - loss: 0.0424 - accuracy: 0.9838\n",
            "Epoch 20/50\n",
            "1875/1875 [==============================] - 102s 55ms/step - loss: 0.0380 - accuracy: 0.9860\n",
            "Epoch 21/50\n",
            "1875/1875 [==============================] - 102s 54ms/step - loss: 0.0370 - accuracy: 0.9866\n",
            "Epoch 22/50\n",
            "1875/1875 [==============================] - 102s 54ms/step - loss: 0.0315 - accuracy: 0.9890\n",
            "Epoch 23/50\n",
            "1875/1875 [==============================] - 102s 54ms/step - loss: 0.0313 - accuracy: 0.9888\n",
            "Epoch 24/50\n",
            "1875/1875 [==============================] - 101s 54ms/step - loss: 0.0298 - accuracy: 0.9888\n",
            "Epoch 25/50\n",
            "1875/1875 [==============================] - 102s 54ms/step - loss: 0.0280 - accuracy: 0.9896\n",
            "Epoch 26/50\n",
            "1875/1875 [==============================] - 100s 53ms/step - loss: 0.0276 - accuracy: 0.9899\n",
            "Epoch 27/50\n",
            "1875/1875 [==============================] - ETA: 0s - loss: 0.0267 - accuracy: 0.9902\n",
            " Reach 99% accuracy so cancelling training !\n",
            "1875/1875 [==============================] - 101s 54ms/step - loss: 0.0267 - accuracy: 0.9902\n",
            "--------------------\n",
            "313/313 [==============================] - 4s 14ms/step - loss: 0.6923 - accuracy: 0.9119\n",
            "--------------------\n",
            "313/313 [==============================] - 6s 18ms/step\n",
            "--------------------\n",
            "[[9.95987457e-38 0.00000000e+00 2.48198598e-27 ... 2.85401506e-19\n",
            "  1.09906455e-30 9.99999940e-01]\n",
            " [1.72384481e-12 2.28076781e-38 9.99999940e-01 ... 3.92620243e-36\n",
            "  2.25509328e-28 5.95042537e-37]\n",
            " [7.30326559e-33 9.99999940e-01 0.00000000e+00 ... 0.00000000e+00\n",
            "  1.02626822e-36 0.00000000e+00]\n",
            " ...\n",
            " [2.20289900e-33 0.00000000e+00 0.00000000e+00 ... 0.00000000e+00\n",
            "  9.99999940e-01 0.00000000e+00]\n",
            " [5.52849328e-37 9.99999940e-01 0.00000000e+00 ... 0.00000000e+00\n",
            "  0.00000000e+00 0.00000000e+00]\n",
            " [1.05868074e-19 4.86481834e-18 5.23641460e-12 ... 2.17634309e-07\n",
            "  5.54170642e-12 1.56973585e-17]]\n",
            "--------------------\n",
            "9\n"
          ]
        }
      ],
      "source": [
        "import tensorflow as tf\n",
        "data = tf.keras.datasets.fashion_mnist\n",
        "\n",
        "class myCallback(tf.keras.callbacks.Callback):\n",
        "  def on_epoch_end(self, epoch, logs={}):\n",
        "    if(logs.get('accuracy')>0.99):\n",
        "      print(\"\\n Reach 99% accuracy so cancelling training !\")\n",
        "      self.model.stop_training = True\n",
        "\n",
        "callbacks = myCallback()\n",
        "\n",
        "(training_images, training_labels), (test_images, test_labels) = data.load_data()\n",
        "\n",
        "print(type(training_images))\n",
        "training_images = training_images.reshape(60000, 28, 28, 1)\n",
        "training_images = training_images / 255.0\n",
        "\n",
        "test_images = test_images.reshape(10000, 28, 28, 1)\n",
        "test_images = test_images / 255.0\n",
        "\n",
        "model = tf.keras.models.Sequential([\n",
        "    tf.keras.layers.Conv2D(64, (3, 3), activation='relu', input_shape=(28, 28, 1)),\n",
        "    tf.keras.layers.MaxPooling2D(2, 2),\n",
        "    tf.keras.layers.Conv2D(64, (3, 3), activation='relu'),\n",
        "    tf.keras.layers.MaxPooling2D(2, 2),\n",
        "    tf.keras.layers.Flatten(),\n",
        "    tf.keras.layers.Dense(128, activation=tf.nn.relu),\n",
        "    tf.keras.layers.Dense(10, activation=tf.nn.softmax)\n",
        "])\n",
        "\n",
        "model.compile(optimizer='adam',\n",
        "              loss='sparse_categorical_crossentropy',\n",
        "              metrics=['accuracy'])\n",
        "\n",
        "model.summary()\n",
        "\n",
        "model.fit(training_images, training_labels, epochs=50, callbacks=[callbacks])\n",
        "\n",
        "print('-'*20)\n",
        "model.evaluate(test_images, test_labels)\n",
        "print('-'*20)\n",
        "classifications = model.predict(test_images)\n",
        "print('-'*20)\n",
        "print(classifications)\n",
        "print('-'*20)\n",
        "print(test_labels[0])"
      ]
    },
    {
      "cell_type": "code",
      "source": [
        "model.evaluate(test_images, test_labels)"
      ],
      "metadata": {
        "colab": {
          "base_uri": "https://localhost:8080/"
        },
        "id": "xRmUInagOgfH",
        "outputId": "29743748-60b1-4eef-b227-6f5da4535bc3"
      },
      "execution_count": 3,
      "outputs": [
        {
          "output_type": "stream",
          "name": "stdout",
          "text": [
            "313/313 [==============================] - 5s 17ms/step - loss: 0.6923 - accuracy: 0.9119\n"
          ]
        },
        {
          "output_type": "execute_result",
          "data": {
            "text/plain": [
              "[0.6922708749771118, 0.911899983882904]"
            ]
          },
          "metadata": {},
          "execution_count": 3
        }
      ]
    },
    {
      "cell_type": "code",
      "source": [],
      "metadata": {
        "id": "iAu3EvA6aYSy"
      },
      "execution_count": null,
      "outputs": []
    }
  ]
}